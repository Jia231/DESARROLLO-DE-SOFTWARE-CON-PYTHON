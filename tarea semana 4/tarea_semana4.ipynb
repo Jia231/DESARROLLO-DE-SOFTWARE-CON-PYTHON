{
 "cells": [
  {
   "cell_type": "code",
   "execution_count": 2,
   "id": "283969b7",
   "metadata": {},
   "outputs": [
    {
     "name": "stdout",
     "output_type": "stream",
     "text": [
      "\n",
      "            Este libro se llama Cien años de soledad \n",
      "            y fue escrito por Gabriel García Márquez en \n",
      "            el año 1967\n",
      "        \n",
      "\n",
      "            Este libro se llama Cocori \n",
      "            y fue escrito por Joaquín Gutiérrez en \n",
      "            el año 1947\n",
      "        \n"
     ]
    }
   ],
   "source": [
    "class Libro:\n",
    "    def __init__(self, titulo, autor, publicacion):\n",
    "        self.titulo = titulo\n",
    "        self.autor = autor\n",
    "        self.publicacion = publicacion\n",
    "\n",
    "    def getLibro(self):\n",
    "        print(f\"\"\"\n",
    "            Este libro se llama {self.titulo} \n",
    "            y fue escrito por {self.autor} en \n",
    "            el año {self.publicacion}\n",
    "        \"\"\")\n",
    "\n",
    "libro_soledad = Libro(\"Cien años de soledad\"\n",
    "                      ,\"Gabriel García Márquez\"\n",
    "                      ,1967)\n",
    "\n",
    "libro_soledad.getLibro()\n",
    "\n",
    "libro_cocori = Libro(\"Cocori\"\n",
    "                      ,\"Joaquín Gutiérrez\"\n",
    "                      ,1947)\n",
    "\n",
    "libro_cocori.getLibro()\n",
    "\n",
    "\n",
    "\n"
   ]
  }
 ],
 "metadata": {
  "kernelspec": {
   "display_name": "base",
   "language": "python",
   "name": "python3"
  },
  "language_info": {
   "codemirror_mode": {
    "name": "ipython",
    "version": 3
   },
   "file_extension": ".py",
   "mimetype": "text/x-python",
   "name": "python",
   "nbconvert_exporter": "python",
   "pygments_lexer": "ipython3",
   "version": "3.12.7"
  }
 },
 "nbformat": 4,
 "nbformat_minor": 5
}
